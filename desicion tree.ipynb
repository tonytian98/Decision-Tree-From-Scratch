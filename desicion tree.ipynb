{
 "cells": [
  {
   "cell_type": "code",
   "execution_count": 1,
   "metadata": {},
   "outputs": [],
   "source": [
    "import pandas as pd\n",
    "import math as mt\n",
    "\n",
    "###ID3 method\n",
    "def Ent(name,df):\n",
    "    ent=0\n",
    "    count=df[name].value_counts()\n",
    "    tot=df[name].size\n",
    "    for i in count:\n",
    "        p=i/tot\n",
    "        ent+= mt.log2(p)*p\n",
    "    return -ent  \n",
    "def Gain(name_main,name_sub,df):\n",
    "    \n",
    "    count=df[name_sub].value_counts()\n",
    "    tot=df[name_sub].size\n",
    "    summ=0\n",
    "    for i in count.index:\n",
    "        summ+=count[i]*Ent(name_main,df[df[name_sub]==i])\n",
    "    return Ent(name_main,df)-summ/tot\n",
    "\n",
    "### CART method\n",
    "def Gini(name, df):\n",
    "    gini=0\n",
    "    count=df[name].value_counts()\n",
    "    tot=df[name].size\n",
    "    for i in count:\n",
    "        p=i/tot\n",
    "        gini+= p**2\n",
    "    return 1-gini\n",
    "\n",
    "def Gini_index(name_main,name_sub,df):\n",
    "    count=df[name_sub].value_counts()\n",
    "    tot=df[name_sub].size\n",
    "    summ=0\n",
    "    for i in count.index:\n",
    "        summ+=count[i]*Gini(name_main,df[df[name_sub]==i])\n",
    "    return summ/tot"
   ]
  },
  {
   "cell_type": "code",
   "execution_count": 4,
   "metadata": {},
   "outputs": [
    {
     "name": "stdout",
     "output_type": "stream",
     "text": [
      "Index(['坏瓜', '好瓜'], dtype='object')\n",
      "    色泽  根蒂  敲声  纹理  脐部  触感 haogua\n",
      "0   青绿  蜷缩  浊响  清晰  凹陷  硬滑     好瓜\n",
      "1   乌黑  蜷缩  沉闷  清晰  凹陷  硬滑     好瓜\n",
      "2   乌黑  蜷缩  浊响  清晰  凹陷  硬滑     好瓜\n",
      "3   青绿  蜷缩  沉闷  清晰  凹陷  硬滑     好瓜\n",
      "4   浅白  蜷缩  浊响  清晰  凹陷  硬滑     好瓜\n",
      "5   青绿  稍蜷  浊响  清晰  稍凹  软粘     好瓜\n",
      "6   乌黑  稍蜷  浊响  稍糊  稍凹  软粘     好瓜\n",
      "7   乌黑  稍蜷  浊响  清晰  稍凹  硬滑     好瓜\n",
      "8   乌黑  稍蜷  沉闷  稍糊  稍凹  硬滑     坏瓜\n",
      "9   青绿  硬挺  清脆  清晰  平坦  软粘     坏瓜\n",
      "10  浅白  硬挺  清脆  模糊  平坦  硬滑     坏瓜\n",
      "11  浅白  蜷缩  浊响  模糊  平坦  软粘     坏瓜\n",
      "12  青绿  稍蜷  浊响  稍糊  凹陷  硬滑     坏瓜\n",
      "13  浅白  稍蜷  沉闷  稍糊  凹陷  硬滑     坏瓜\n",
      "14  乌黑  稍蜷  浊响  清晰  稍凹  软粘     坏瓜\n",
      "15  浅白  蜷缩  浊响  模糊  平坦  硬滑     坏瓜\n",
      "16  青绿  蜷缩  沉闷  稍糊  稍凹  硬滑     坏瓜\n"
     ]
    }
   ],
   "source": [
    "### First let's see the data \n",
    "df=pd.read_excel(r'C:\\Users\\Admin\\Downloads\\3.xlsx')\n",
    "target='haogua'\n",
    "print(df[target].value_counts().index)\n",
    "print(df)\n",
    "### the data have 6 characteristics of a watermelon\n",
    "### and 1 target variable of whether the water melon taste good or bad"
   ]
  },
  {
   "cell_type": "code",
   "execution_count": 8,
   "metadata": {},
   "outputs": [],
   "source": [
    "###recursive output, desicion tree is in the format of dictionary\n",
    "def output(df,f):\n",
    "    Gs={}\n",
    "    size=df[target].size\n",
    "    ###end recursion sitution 1, only one class left\n",
    "    if df.columns.size==2:\n",
    "        for col in df.columns:\n",
    "            if col!=target:\n",
    "                result={}\n",
    "                for classs in df[col].unique():\n",
    "                    count=df[df[col]==classs][target].value_counts()\n",
    "                    x=0\n",
    "                    for i in count.index:\n",
    "                        if x==0:\n",
    "                            big=count[i]\n",
    "                            bigname=i\n",
    "                        else:\n",
    "                            if big<count[i]:\n",
    "                                big=count[i]\n",
    "                                bigname=i\n",
    "                        x+=1\n",
    "                    colname=col\n",
    "                    result[classs]=bigname\n",
    "                \n",
    "                return {colname:result}            \n",
    "    ###end recursion sitution 2, data left only contain either good or bad melon\n",
    "    for i in df[target].value_counts().index:\n",
    "        if df[target].value_counts()[i]==size:\n",
    "            return i\n",
    "    ###recurson condition: output argmax(objective function (Gain/ Gini))\n",
    "    for col in df.columns:\n",
    "        if col!=target:\n",
    "            Gs[col]=f(target,col,df)\n",
    "    x=0\n",
    "    for i in Gs:\n",
    "        if x==0:\n",
    "            big=Gs[i]\n",
    "            bigname=i\n",
    "        else:\n",
    "            if big<Gs[i]:\n",
    "                big=Gs[i]\n",
    "                bigname=i             \n",
    "        x+=1\n",
    "\n",
    "    return {bigname:{c:output(df.drop(columns=bigname)[df[bigname]==c],f) for c in df[bigname].unique()}}"
   ]
  },
  {
   "cell_type": "code",
   "execution_count": 9,
   "metadata": {},
   "outputs": [
    {
     "data": {
      "text/plain": [
       "{'纹理': {'清晰': {'根蒂': {'蜷缩': '好瓜',\n",
       "    '稍蜷': {'色泽': {'青绿': '好瓜', '乌黑': {'触感': {'硬滑': '好瓜', '软粘': '坏瓜'}}}},\n",
       "    '硬挺': '坏瓜'}},\n",
       "  '稍糊': {'触感': {'软粘': '好瓜', '硬滑': '坏瓜'}},\n",
       "  '模糊': '坏瓜'}}"
      ]
     },
     "execution_count": 9,
     "metadata": {},
     "output_type": "execute_result"
    }
   ],
   "source": [
    "### ID3 method\n",
    "output(df,Gain)"
   ]
  },
  {
   "cell_type": "code",
   "execution_count": 10,
   "metadata": {
    "scrolled": true
   },
   "outputs": [
    {
     "data": {
      "text/plain": [
       "{'触感': {'硬滑': {'敲声': {'浊响': {'根蒂': {'蜷缩': {'色泽': {'青绿': '好瓜',\n",
       "        '乌黑': '好瓜',\n",
       "        '浅白': {'纹理': {'清晰': {'脐部': {'凹陷': '好瓜'}},\n",
       "          '模糊': {'脐部': {'平坦': '坏瓜'}}}}}},\n",
       "      '稍蜷': {'色泽': {'乌黑': '好瓜', '青绿': '坏瓜'}}}},\n",
       "    '沉闷': {'色泽': {'乌黑': {'根蒂': {'蜷缩': '好瓜', '稍蜷': '坏瓜'}},\n",
       "      '青绿': {'根蒂': {'蜷缩': {'纹理': {'清晰': {'脐部': {'凹陷': '好瓜'}},\n",
       "          '稍糊': {'脐部': {'稍凹': '坏瓜'}}}}}},\n",
       "      '浅白': '坏瓜'}},\n",
       "    '清脆': '坏瓜'}},\n",
       "  '软粘': {'色泽': {'青绿': {'纹理': {'清晰': {'根蒂': {'稍蜷': '好瓜', '硬挺': '坏瓜'}}}},\n",
       "    '乌黑': {'根蒂': {'稍蜷': {'敲声': {'浊响': {'脐部': {'稍凹': {'纹理': {'稍糊': '好瓜',\n",
       "            '清晰': '坏瓜'}}}}}}}},\n",
       "    '浅白': '坏瓜'}}}}"
      ]
     },
     "execution_count": 10,
     "metadata": {},
     "output_type": "execute_result"
    }
   ],
   "source": [
    "### CART method\n",
    "output(df,Gini_index)"
   ]
  },
  {
   "cell_type": "code",
   "execution_count": null,
   "metadata": {
    "scrolled": true
   },
   "outputs": [],
   "source": [
    "import pydot\n",
    "import graphviz\n",
    "def draw(parent_name, child_name):\n",
    "    edge = pydot.Edge(parent_name, child_name)\n",
    "    graph.add_edge(edge)\n",
    "\n",
    "def visit(node, parent=None):\n",
    "    for k,v in node.items():\n",
    "        if isinstance(v, dict):\n",
    "            # We start with the root node whose parent is None\n",
    "            # we don't want to graph the None node\n",
    "            if parent:\n",
    "                draw(parent, k)\n",
    "            visit(v, k)\n",
    "        else:\n",
    "            draw(parent, k)\n",
    "            # drawing the label using a distinct name\n",
    "            draw(k, k+'_'+v)\n",
    "\n",
    "graph = pydot.Dot(graph_type='graph')\n",
    "visit(output(df,Gain))\n",
    "graph.write_png(r'C:\\Users\\Admin\\Downloads\\example1_graph.png')"
   ]
  },
  {
   "cell_type": "code",
   "execution_count": null,
   "metadata": {},
   "outputs": [],
   "source": []
  }
 ],
 "metadata": {
  "kernelspec": {
   "display_name": "Python 3",
   "language": "python",
   "name": "python3"
  },
  "language_info": {
   "codemirror_mode": {
    "name": "ipython",
    "version": 3
   },
   "file_extension": ".py",
   "mimetype": "text/x-python",
   "name": "python",
   "nbconvert_exporter": "python",
   "pygments_lexer": "ipython3",
   "version": "3.7.1"
  }
 },
 "nbformat": 4,
 "nbformat_minor": 4
}
